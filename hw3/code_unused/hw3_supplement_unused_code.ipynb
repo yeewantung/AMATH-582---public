{
 "cells": [
  {
   "cell_type": "code",
   "execution_count": null,
   "metadata": {},
   "outputs": [],
   "source": [
    "# background darkening for color data\n",
    "cam14cndr = bg_darken(cam14cn[:,:,0,:], 300, 460, 200, 430)\n",
    "cam24cndr = bg_darken(cam24cn[:,:,0,:], 200, 430, 50, 400)\n",
    "cam34cndr = bg_darken(cam34cn[:,:,0,:], 250, 500, 120, 300)\n",
    "\n",
    "cam14cndg = bg_darken(cam14cn[:,:,1,:], 300, 460, 200, 430)\n",
    "cam24cndg = bg_darken(cam24cn[:,:,1,:], 200, 430, 50, 400)\n",
    "cam34cndg = bg_darken(cam34cn[:,:,1,:], 250, 500, 120, 300)\n",
    "\n",
    "cam14cndb = bg_darken(cam14cn[:,:,2,:], 300, 460, 200, 430)\n",
    "cam24cndb = bg_darken(cam24cn[:,:,2,:], 200, 430, 50, 400)\n",
    "cam34cndb = bg_darken(cam34cn[:,:,2,:], 250, 500, 120, 300)"
   ]
  },
  {
   "cell_type": "code",
   "execution_count": null,
   "metadata": {},
   "outputs": [],
   "source": [
    "# plot R, G, B channel separately\n",
    "plt.figure(30)\n",
    "fnum = 255 # frame number\n",
    "\n",
    "#data_plot = cam34cndr[:,:,fnum]\n",
    "#plt.imshow(data_plot, cmap = plt.get_cmap(\"Reds\"))\n",
    "\n",
    "data_plot = cam34cndg[:,:,fnum]\n",
    "plt.imshow(data_plot, cmap = plt.get_cmap(\"Greens\"))\n",
    "\n",
    "#data_plot = cam34cndb[:,:,fnum]\n",
    "#plt.imshow(data_plot, cmap = plt.get_cmap(\"Blues\"))\n",
    "\n",
    "# maximum intensity\n",
    "#minidx = np.unravel_index(data_plot.argmin(), data_plot.shape)\n",
    "#plt.plot(minidx[1], minidx[0], 'go')\n",
    "\n",
    "# maximum intensity\n",
    "maxidx = np.unravel_index(data_plot.argmax(), data_plot.shape)\n",
    "plt.plot(maxidx[1], maxidx[0], 'go')\n",
    "\n",
    "# plot calculated trajectory\n",
    "plt.plot(trajx34[fnum], trajy34[fnum], 'co')\n",
    "plt.plot(trajx34rrr[fnum], trajy34rrr[fnum], 'mo')\n",
    "#plt.plot(trajx34ng[fnum], trajy34ng[fnum], 'ro')\n",
    "plt.show()"
   ]
  }
 ],
 "metadata": {
  "kernelspec": {
   "display_name": "Python 3",
   "language": "python",
   "name": "python3"
  },
  "language_info": {
   "codemirror_mode": {
    "name": "ipython",
    "version": 3
   },
   "file_extension": ".py",
   "mimetype": "text/x-python",
   "name": "python",
   "nbconvert_exporter": "python",
   "pygments_lexer": "ipython3",
   "version": "3.7.2"
  }
 },
 "nbformat": 4,
 "nbformat_minor": 2
}
